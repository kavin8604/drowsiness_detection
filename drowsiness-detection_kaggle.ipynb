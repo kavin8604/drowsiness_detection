{
 "cells": [
  {
   "cell_type": "markdown",
   "metadata": {},
   "source": [
    "# **Importing the libraries**"
   ]
  },
  {
   "cell_type": "code",
   "execution_count": null,
   "metadata": {
    "_cell_guid": "b1076dfc-b9ad-4769-8c92-a6c4dae69d19",
    "_uuid": "8f2839f25d086af736a60e9eeb907d3b93b6e0e5",
    "execution": {
     "iopub.execute_input": "2023-03-24T08:44:27.544369Z",
     "iopub.status.busy": "2023-03-24T08:44:27.543228Z",
     "iopub.status.idle": "2023-03-24T08:44:27.550594Z",
     "shell.execute_reply": "2023-03-24T08:44:27.549437Z",
     "shell.execute_reply.started": "2023-03-24T08:44:27.54431Z"
    },
    "papermill": {
     "duration": 4.48684,
     "end_time": "2023-01-26T00:54:07.710101",
     "exception": false,
     "start_time": "2023-01-26T00:54:03.223261",
     "status": "completed"
    },
    "tags": [],
    "trusted": true
   },
   "outputs": [
    {
     "ename": "ModuleNotFoundError",
     "evalue": "No module named 'tensorflow'",
     "output_type": "error",
     "traceback": [
      "\u001b[1;31m---------------------------------------------------------------------------\u001b[0m",
      "\u001b[1;31mModuleNotFoundError\u001b[0m                       Traceback (most recent call last)",
      "\u001b[1;32mc:\\Users\\Kavin\\Desktop\\drowsiness-detection_kaggle.ipynb Cell 2\u001b[0m line \u001b[0;36m4\n\u001b[0;32m      <a href='vscode-notebook-cell:/c%3A/Users/Kavin/Desktop/drowsiness-detection_kaggle.ipynb#W1sZmlsZQ%3D%3D?line=1'>2</a>\u001b[0m \u001b[39mimport\u001b[39;00m \u001b[39mpandas\u001b[39;00m \u001b[39mas\u001b[39;00m \u001b[39mpd\u001b[39;00m \n\u001b[0;32m      <a href='vscode-notebook-cell:/c%3A/Users/Kavin/Desktop/drowsiness-detection_kaggle.ipynb#W1sZmlsZQ%3D%3D?line=2'>3</a>\u001b[0m \u001b[39mimport\u001b[39;00m \u001b[39mos\u001b[39;00m\n\u001b[1;32m----> <a href='vscode-notebook-cell:/c%3A/Users/Kavin/Desktop/drowsiness-detection_kaggle.ipynb#W1sZmlsZQ%3D%3D?line=3'>4</a>\u001b[0m \u001b[39mimport\u001b[39;00m \u001b[39mtensorflow\u001b[39;00m \u001b[39mas\u001b[39;00m \u001b[39mtf\u001b[39;00m\n\u001b[0;32m      <a href='vscode-notebook-cell:/c%3A/Users/Kavin/Desktop/drowsiness-detection_kaggle.ipynb#W1sZmlsZQ%3D%3D?line=5'>6</a>\u001b[0m \u001b[39mfrom\u001b[39;00m \u001b[39mglob\u001b[39;00m \u001b[39mimport\u001b[39;00m glob\n\u001b[0;32m      <a href='vscode-notebook-cell:/c%3A/Users/Kavin/Desktop/drowsiness-detection_kaggle.ipynb#W1sZmlsZQ%3D%3D?line=6'>7</a>\u001b[0m \u001b[39mfrom\u001b[39;00m \u001b[39mtqdm\u001b[39;00m \u001b[39mimport\u001b[39;00m tqdm\n",
      "\u001b[1;31mModuleNotFoundError\u001b[0m: No module named 'tensorflow'"
     ]
    }
   ],
   "source": [
    "import numpy as np \n",
    "import pandas as pd \n",
    "import os\n",
    "import tensorflow as tf\n",
    "\n",
    "from glob import glob\n",
    "from tqdm import tqdm\n",
    "\n",
    "import matplotlib.pyplot as plt\n",
    "from PIL import Image  "
   ]
  },
  {
   "cell_type": "markdown",
   "metadata": {},
   "source": [
    "# **Loading the Images**"
   ]
  },
  {
   "cell_type": "code",
   "execution_count": null,
   "metadata": {
    "execution": {
     "iopub.execute_input": "2023-03-24T08:44:27.616705Z",
     "iopub.status.busy": "2023-03-24T08:44:27.615545Z",
     "iopub.status.idle": "2023-03-24T08:44:35.281465Z",
     "shell.execute_reply": "2023-03-24T08:44:35.280255Z",
     "shell.execute_reply.started": "2023-03-24T08:44:27.616635Z"
    },
    "papermill": {
     "duration": 13.13026,
     "end_time": "2023-01-26T00:54:20.843924",
     "exception": false,
     "start_time": "2023-01-26T00:54:07.713664",
     "status": "completed"
    },
    "tags": [],
    "trusted": true
   },
   "outputs": [],
   "source": [
    "X = []\n",
    "Y = []\n",
    "\n",
    "for i in tqdm(glob('/kaggle/input/mrl-dataset/train/Open_Eyes/*')):\n",
    "    temp = np.array(Image.open(i).resize((64,64)))\n",
    "    X.append(temp)\n",
    "    Y.append(1)\n",
    "    \n",
    "for i in tqdm(glob('/kaggle/input/mrl-dataset/train/Closed_Eyes/*')):\n",
    "    temp = np.array(Image.open(i).resize((64,64)))\n",
    "    X.append(temp)\n",
    "    Y.append(0)    "
   ]
  },
  {
   "cell_type": "markdown",
   "metadata": {},
   "source": [
    "# **Normalizing the images (with any algorithm)**"
   ]
  },
  {
   "cell_type": "code",
   "execution_count": null,
   "metadata": {
    "execution": {
     "iopub.execute_input": "2023-03-24T08:44:35.283844Z",
     "iopub.status.busy": "2023-03-24T08:44:35.283409Z",
     "iopub.status.idle": "2023-03-24T08:44:35.288736Z",
     "shell.execute_reply": "2023-03-24T08:44:35.287411Z",
     "shell.execute_reply.started": "2023-03-24T08:44:35.283809Z"
    },
    "papermill": {
     "duration": 0.06954,
     "end_time": "2023-01-26T00:54:20.923884",
     "exception": false,
     "start_time": "2023-01-26T00:54:20.854344",
     "status": "completed"
    },
    "tags": [],
    "trusted": true
   },
   "outputs": [],
   "source": [
    "# X = np.array(X)\n",
    "# X = X/255.0\n",
    "# Y = np.array(Y)"
   ]
  },
  {
   "cell_type": "markdown",
   "metadata": {},
   "source": [
    "# **Normalizing the images using Min-Max Scaling algorithm**"
   ]
  },
  {
   "cell_type": "code",
   "execution_count": null,
   "metadata": {
    "execution": {
     "iopub.execute_input": "2023-03-24T08:44:35.290899Z",
     "iopub.status.busy": "2023-03-24T08:44:35.290543Z",
     "iopub.status.idle": "2023-03-24T08:44:35.480329Z",
     "shell.execute_reply": "2023-03-24T08:44:35.479236Z",
     "shell.execute_reply.started": "2023-03-24T08:44:35.290867Z"
    },
    "trusted": true
   },
   "outputs": [],
   "source": [
    "X = (np.array(X) - np.min(X)) / (np.max(X) - np.min(X))\n",
    "X = X/255.0\n",
    "Y = (np.array(Y) - np.min(Y)) / (np.max(Y) - np.min(Y))"
   ]
  },
  {
   "cell_type": "markdown",
   "metadata": {},
   "source": [
    "# **Normalizing the images using Z-Score algorithm**"
   ]
  },
  {
   "cell_type": "code",
   "execution_count": null,
   "metadata": {
    "execution": {
     "iopub.execute_input": "2023-03-24T08:44:35.483621Z",
     "iopub.status.busy": "2023-03-24T08:44:35.482895Z",
     "iopub.status.idle": "2023-03-24T08:44:35.488326Z",
     "shell.execute_reply": "2023-03-24T08:44:35.487009Z",
     "shell.execute_reply.started": "2023-03-24T08:44:35.48358Z"
    },
    "trusted": true
   },
   "outputs": [],
   "source": [
    "# 'X = (np.array(X) - np.mean(X)) / np.std(X)\n",
    "# X = X/255.0\n",
    "# Y = (np.array(Y) - np.mean(Y)) / np.std(Y)'"
   ]
  },
  {
   "cell_type": "markdown",
   "metadata": {},
   "source": [
    "# Expanding the dimensions of array (numpy)"
   ]
  },
  {
   "cell_type": "code",
   "execution_count": null,
   "metadata": {
    "execution": {
     "iopub.execute_input": "2023-03-24T08:44:35.489986Z",
     "iopub.status.busy": "2023-03-24T08:44:35.489664Z",
     "iopub.status.idle": "2023-03-24T08:44:35.502771Z",
     "shell.execute_reply": "2023-03-24T08:44:35.501576Z",
     "shell.execute_reply.started": "2023-03-24T08:44:35.489953Z"
    },
    "papermill": {
     "duration": 0.018224,
     "end_time": "2023-01-26T00:54:20.951723",
     "exception": false,
     "start_time": "2023-01-26T00:54:20.933499",
     "status": "completed"
    },
    "tags": [],
    "trusted": true
   },
   "outputs": [],
   "source": [
    "X = np.expand_dims(X,-1)"
   ]
  },
  {
   "cell_type": "markdown",
   "metadata": {},
   "source": [
    "# Spliting the dataset into training and testing data"
   ]
  },
  {
   "cell_type": "code",
   "execution_count": null,
   "metadata": {
    "execution": {
     "iopub.execute_input": "2023-03-24T08:44:35.504495Z",
     "iopub.status.busy": "2023-03-24T08:44:35.504129Z",
     "iopub.status.idle": "2023-03-24T08:44:35.554555Z",
     "shell.execute_reply": "2023-03-24T08:44:35.553307Z",
     "shell.execute_reply.started": "2023-03-24T08:44:35.504427Z"
    },
    "papermill": {
     "duration": 0.608252,
     "end_time": "2023-01-26T00:54:21.569644",
     "exception": false,
     "start_time": "2023-01-26T00:54:20.961392",
     "status": "completed"
    },
    "tags": [],
    "trusted": true
   },
   "outputs": [],
   "source": [
    "from sklearn.model_selection import train_test_split\n",
    "x_train, x_test, y_train, y_test = train_test_split(X, Y, test_size=0.33, random_state=42)"
   ]
  },
  {
   "cell_type": "markdown",
   "metadata": {},
   "source": [
    "# CNN Model"
   ]
  },
  {
   "cell_type": "code",
   "execution_count": null,
   "metadata": {
    "execution": {
     "iopub.execute_input": "2023-03-24T08:44:35.556695Z",
     "iopub.status.busy": "2023-03-24T08:44:35.55629Z",
     "iopub.status.idle": "2023-03-24T08:44:35.740172Z",
     "shell.execute_reply": "2023-03-24T08:44:35.738939Z",
     "shell.execute_reply.started": "2023-03-24T08:44:35.556658Z"
    },
    "papermill": {
     "duration": 4.029337,
     "end_time": "2023-01-26T00:54:25.608678",
     "exception": false,
     "start_time": "2023-01-26T00:54:21.579341",
     "status": "completed"
    },
    "tags": [],
    "trusted": true
   },
   "outputs": [],
   "source": [
    "from tensorflow.keras.models import Sequential\n",
    "from tensorflow.keras.layers import Dense, Input, Conv2D, BatchNormalization, MaxPooling2D,Dropout, Flatten\n",
    "\n",
    "model = tf.keras.models.Sequential([\n",
    "      Input(shape=(64, 64, 1)),\n",
    "\n",
    "      Conv2D(filters = 32, kernel_size = 5, strides = 1, activation = 'relu'),\n",
    "      Conv2D(filters = 32, kernel_size = 5, strides = 1, activation = 'relu', use_bias=False),\n",
    "      BatchNormalization(),\n",
    "      MaxPooling2D(strides = 2),\n",
    "      Dropout(0.3),\n",
    "\n",
    "      Conv2D(filters = 64, kernel_size = 3, strides = 1, activation = 'relu'),\n",
    "      Conv2D(filters = 64, kernel_size = 3, strides = 1, activation = 'relu', use_bias=False),\n",
    "      BatchNormalization(),\n",
    "      MaxPooling2D(strides = 2),\n",
    "      Dropout(0.3),\n",
    "\n",
    "      Flatten(),\n",
    "      Dense(units  = 256, activation = 'relu', use_bias=False),\n",
    "      BatchNormalization(),\n",
    "\n",
    "      Dense(units = 128, use_bias=False, activation = 'relu'),\n",
    "\n",
    "      Dense(units = 84, use_bias=False, activation = 'relu'),\n",
    "      BatchNormalization(),\n",
    "      Dropout(0.3),\n",
    "\n",
    "      Dense(units = 1, activation = 'sigmoid')\n",
    "  ])"
   ]
  },
  {
   "cell_type": "markdown",
   "metadata": {},
   "source": [
    "# Compiling the Model"
   ]
  },
  {
   "cell_type": "code",
   "execution_count": null,
   "metadata": {
    "execution": {
     "iopub.execute_input": "2023-03-24T08:44:35.742349Z",
     "iopub.status.busy": "2023-03-24T08:44:35.741991Z",
     "iopub.status.idle": "2023-03-24T08:44:35.756236Z",
     "shell.execute_reply": "2023-03-24T08:44:35.754886Z",
     "shell.execute_reply.started": "2023-03-24T08:44:35.742307Z"
    },
    "papermill": {
     "duration": 0.039419,
     "end_time": "2023-01-26T00:54:25.664744",
     "exception": false,
     "start_time": "2023-01-26T00:54:25.625325",
     "status": "completed"
    },
    "tags": [],
    "trusted": true
   },
   "outputs": [],
   "source": [
    "model.compile(loss='binary_crossentropy',optimizer='adam', metrics=['accuracy'])"
   ]
  },
  {
   "cell_type": "markdown",
   "metadata": {},
   "source": [
    "# Training of the Model"
   ]
  },
  {
   "cell_type": "code",
   "execution_count": null,
   "metadata": {
    "execution": {
     "iopub.execute_input": "2023-03-24T08:44:35.758551Z",
     "iopub.status.busy": "2023-03-24T08:44:35.758195Z",
     "iopub.status.idle": "2023-03-24T09:01:53.678875Z",
     "shell.execute_reply": "2023-03-24T09:01:53.677658Z",
     "shell.execute_reply.started": "2023-03-24T08:44:35.758512Z"
    },
    "papermill": {
     "duration": 26.33625,
     "end_time": "2023-01-26T00:54:52.017505",
     "exception": false,
     "start_time": "2023-01-26T00:54:25.681255",
     "status": "completed"
    },
    "tags": [],
    "trusted": true
   },
   "outputs": [],
   "source": [
    "callback = tf.keras.callbacks.ModelCheckpoint(\n",
    "    filepath='bestModel.h5',\n",
    "    save_weights_only=False,\n",
    "    monitor='val_loss',\n",
    "    mode='min',\n",
    "    save_best_only=True,\n",
    "    verbose =1)\n",
    "model.fit(x_train, y_train, validation_split=0.2, epochs=30, batch_size=32, callbacks=callback)"
   ]
  },
  {
   "cell_type": "markdown",
   "metadata": {},
   "source": [
    "# Model Evaluation"
   ]
  },
  {
   "cell_type": "code",
   "execution_count": null,
   "metadata": {
    "execution": {
     "iopub.execute_input": "2023-03-24T09:01:53.683661Z",
     "iopub.status.busy": "2023-03-24T09:01:53.683253Z",
     "iopub.status.idle": "2023-03-24T09:01:57.670812Z",
     "shell.execute_reply": "2023-03-24T09:01:57.669933Z",
     "shell.execute_reply.started": "2023-03-24T09:01:53.683626Z"
    },
    "papermill": {
     "duration": 0.418465,
     "end_time": "2023-01-26T00:54:52.464613",
     "exception": false,
     "start_time": "2023-01-26T00:54:52.046148",
     "status": "completed"
    },
    "tags": [],
    "trusted": true
   },
   "outputs": [],
   "source": [
    "model.evaluate(x_test, y_test)"
   ]
  },
  {
   "cell_type": "markdown",
   "metadata": {},
   "source": [
    "# Loading the Model Performance"
   ]
  },
  {
   "cell_type": "code",
   "execution_count": null,
   "metadata": {
    "execution": {
     "iopub.execute_input": "2023-03-24T09:01:57.67481Z",
     "iopub.status.busy": "2023-03-24T09:01:57.67379Z",
     "iopub.status.idle": "2023-03-24T09:02:02.172002Z",
     "shell.execute_reply": "2023-03-24T09:02:02.170851Z",
     "shell.execute_reply.started": "2023-03-24T09:01:57.674772Z"
    },
    "papermill": {
     "duration": 0.76073,
     "end_time": "2023-01-26T00:54:53.253174",
     "exception": false,
     "start_time": "2023-01-26T00:54:52.492444",
     "status": "completed"
    },
    "tags": [],
    "trusted": true
   },
   "outputs": [],
   "source": [
    "from keras.models import load_model\n",
    "best_model = load_model('/kaggle/working/bestModel.h5')\n",
    "best_model.evaluate(x_test, y_test)"
   ]
  },
  {
   "cell_type": "markdown",
   "metadata": {},
   "source": [
    "# Changing the dimensions and Plotting the trained images"
   ]
  },
  {
   "cell_type": "code",
   "execution_count": null,
   "metadata": {
    "execution": {
     "iopub.execute_input": "2023-03-24T09:02:02.174173Z",
     "iopub.status.busy": "2023-03-24T09:02:02.173723Z",
     "iopub.status.idle": "2023-03-24T09:02:03.701694Z",
     "shell.execute_reply": "2023-03-24T09:02:03.700543Z",
     "shell.execute_reply.started": "2023-03-24T09:02:02.174128Z"
    },
    "papermill": {
     "duration": 1.303876,
     "end_time": "2023-01-26T00:54:54.585385",
     "exception": false,
     "start_time": "2023-01-26T00:54:53.281509",
     "status": "completed"
    },
    "tags": [],
    "trusted": true
   },
   "outputs": [],
   "source": [
    "for i in x_test[0:5]:\n",
    "    result = best_model.predict(np.expand_dims(i,0))\n",
    "    plt.imshow(i)\n",
    "    plt.show()\n",
    "    \n",
    "    if result > 0.5:\n",
    "        print('Open')\n",
    "    else:\n",
    "        print(\"Closed\")\n",
    "    "
   ]
  },
  {
   "cell_type": "markdown",
   "metadata": {},
   "source": [
    "# Prediction and Confusion Matrix"
   ]
  },
  {
   "cell_type": "code",
   "execution_count": null,
   "metadata": {
    "execution": {
     "iopub.execute_input": "2023-03-24T09:02:03.703537Z",
     "iopub.status.busy": "2023-03-24T09:02:03.7032Z",
     "iopub.status.idle": "2023-03-24T09:02:09.163999Z",
     "shell.execute_reply": "2023-03-24T09:02:09.16292Z",
     "shell.execute_reply.started": "2023-03-24T09:02:03.703506Z"
    },
    "papermill": {
     "duration": 0.56718,
     "end_time": "2023-01-26T00:54:55.184284",
     "exception": false,
     "start_time": "2023-01-26T00:54:54.617104",
     "status": "completed"
    },
    "tags": [],
    "trusted": true
   },
   "outputs": [],
   "source": [
    "from sklearn.metrics import confusion_matrix\n",
    "import seaborn as sns\n",
    "\n",
    "plt.figure(figsize=(15, 5))\n",
    "\n",
    "preds = best_model.predict(x_test)\n",
    "preds = (preds >= 0.5).astype(np.int32)\n",
    "cm = confusion_matrix(y_test, preds)\n",
    "df_cm = pd.DataFrame(cm, index=['closed', 'Open'], columns=['Closed', 'Open'])\n",
    "plt.subplot(121)\n",
    "plt.title(\"Confusion matrix\\n\")\n",
    "sns.heatmap(df_cm, annot=True, fmt=\"d\", cmap=\"YlGnBu\")\n",
    "plt.ylabel(\"Predicted\")\n",
    "plt.xlabel(\"Actual\")"
   ]
  },
  {
   "cell_type": "markdown",
   "metadata": {},
   "source": [
    "# Accuracy\n",
    "\n",
    "Evaluating the Accuracy"
   ]
  },
  {
   "cell_type": "code",
   "execution_count": null,
   "metadata": {
    "execution": {
     "iopub.execute_input": "2023-03-24T09:02:09.166617Z",
     "iopub.status.busy": "2023-03-24T09:02:09.166125Z",
     "iopub.status.idle": "2023-03-24T09:02:13.143182Z",
     "shell.execute_reply": "2023-03-24T09:02:13.142044Z",
     "shell.execute_reply.started": "2023-03-24T09:02:09.166561Z"
    },
    "papermill": {
     "duration": 0.03013,
     "end_time": "2023-01-26T00:54:55.244566",
     "exception": false,
     "start_time": "2023-01-26T00:54:55.214436",
     "status": "completed"
    },
    "tags": [],
    "trusted": true
   },
   "outputs": [],
   "source": [
    "accuracy = best_model.evaluate(x_test, y_test)[1]\n",
    "print(\"Accuracy:\", accuracy)"
   ]
  }
 ],
 "metadata": {
  "kaggle": {
   "accelerator": "none",
   "dataSources": [
    {
     "datasetId": 1048759,
     "sourceId": 1770390,
     "sourceType": "datasetVersion"
    }
   ],
   "dockerImageVersionId": 30407,
   "isGpuEnabled": false,
   "isInternetEnabled": false,
   "language": "python",
   "sourceType": "notebook"
  },
  "kernelspec": {
   "display_name": "Python 3",
   "language": "python",
   "name": "python3"
  },
  "language_info": {
   "codemirror_mode": {
    "name": "ipython",
    "version": 3
   },
   "file_extension": ".py",
   "mimetype": "text/x-python",
   "name": "python",
   "nbconvert_exporter": "python",
   "pygments_lexer": "ipython3",
   "version": "3.9.12"
  }
 },
 "nbformat": 4,
 "nbformat_minor": 4
}
